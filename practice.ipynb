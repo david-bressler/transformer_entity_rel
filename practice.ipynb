{
 "cells": [
  {
   "cell_type": "code",
   "execution_count": null,
   "metadata": {},
   "outputs": [],
   "source": [
    "#install\n",
    "!pip install transformers\n",
    "!pip install sklearn\n",
    "!pip install tensorboardX\n",
    "!pip install torch"
   ]
  },
  {
   "cell_type": "code",
   "execution_count": 2,
   "metadata": {},
   "outputs": [
    {
     "name": "stdout",
     "output_type": "stream",
     "text": [
      "/home/ec2-user/SageMaker/projects/transformers\n"
     ]
    }
   ],
   "source": [
    "cd /home/ec2-user/SageMaker/projects/transformers"
   ]
  },
  {
   "cell_type": "code",
   "execution_count": 3,
   "metadata": {},
   "outputs": [
    {
     "name": "stdout",
     "output_type": "stream",
     "text": [
      "Requirement already satisfied: tensorboardX in /home/ec2-user/anaconda3/envs/python3/lib/python3.6/site-packages (from -r ./examples/requirements.txt (line 1)) (1.9)\n",
      "Requirement already satisfied: scikit-learn in /home/ec2-user/anaconda3/envs/python3/lib/python3.6/site-packages (from -r ./examples/requirements.txt (line 2)) (0.20.3)\n",
      "Requirement already satisfied: six in /home/ec2-user/anaconda3/envs/python3/lib/python3.6/site-packages (from tensorboardX->-r ./examples/requirements.txt (line 1)) (1.11.0)\n",
      "Requirement already satisfied: numpy in /home/ec2-user/anaconda3/envs/python3/lib/python3.6/site-packages (from tensorboardX->-r ./examples/requirements.txt (line 1)) (1.14.3)\n",
      "Requirement already satisfied: protobuf>=3.8.0 in /home/ec2-user/anaconda3/envs/python3/lib/python3.6/site-packages (from tensorboardX->-r ./examples/requirements.txt (line 1)) (3.10.0)\n",
      "Requirement already satisfied: scipy>=0.13.3 in /home/ec2-user/anaconda3/envs/python3/lib/python3.6/site-packages (from scikit-learn->-r ./examples/requirements.txt (line 2)) (1.1.0)\n",
      "Requirement already satisfied: setuptools in /home/ec2-user/anaconda3/envs/python3/lib/python3.6/site-packages (from protobuf>=3.8.0->tensorboardX->-r ./examples/requirements.txt (line 1)) (39.1.0)\n",
      "\u001b[33mYou are using pip version 10.0.1, however version 19.2.3 is available.\n",
      "You should consider upgrading via the 'pip install --upgrade pip' command.\u001b[0m\n"
     ]
    }
   ],
   "source": [
    "!pip install -r ./examples/requirements.txt"
   ]
  },
  {
   "cell_type": "code",
   "execution_count": 4,
   "metadata": {},
   "outputs": [
    {
     "name": "stdout",
     "output_type": "stream",
     "text": [
      "/home/ec2-user/SageMaker/projects/transformer_entity_rel\n"
     ]
    }
   ],
   "source": [
    "cd /home/ec2-user/SageMaker/projects/transformer_entity_rel/"
   ]
  },
  {
   "cell_type": "code",
   "execution_count": null,
   "metadata": {},
   "outputs": [],
   "source": []
  },
  {
   "cell_type": "code",
   "execution_count": 17,
   "metadata": {},
   "outputs": [],
   "source": [
    "import torch\n",
    "from transformers import *\n",
    "import run_glue_gap\n",
    "import json\n",
    "import pandas as pd\n",
    "import numpy as np\n",
    "import pickle\n"
   ]
  },
  {
   "cell_type": "code",
   "execution_count": 18,
   "metadata": {},
   "outputs": [
    {
     "name": "stdout",
     "output_type": "stream",
     "text": [
      "3000\n",
      "3000\n",
      "  targets                                              texts\n",
      "0       1  Glancy Prongay & Murray LLP Announces Investig...\n",
      "1       1  The case has been assigned to Judge Keith P. E...\n",
      "2       1  . It comes afterDavid Bolt, who provides indep...\n",
      "3       1  ROSEN , A GLOBALLY RECOGNIZED LAW FIRM , Remin...\n",
      "4       1  <BEGIN-SPAN> wells fargo wells fargo <END-SPAN...\n",
      "(303, 2)\n"
     ]
    }
   ],
   "source": [
    "#filename='/home/ec2-user/SageMaker/Data/contexts_samples_df1.2.json'\n",
    "#filename='/home/ec2-user/SageMaker/Data/contexts_samples_df1.json'\n",
    "filename='/home/ec2-user/SageMaker/Data/contexts_samples_original1.json'\n",
    "\n",
    "#dict_keys(['query_name', 'contexts', 'article_title', 'conservative-marked-body', \n",
    "    #'conservative-sequence', 'liberal-marked-body', 'entity_relevance', 'article_body', 'liberal-sequence'])\n",
    "with open(filename, 'r') as f:\n",
    "            the_dic = json.loads(f.read())\n",
    "\n",
    "\n",
    "the_targets=[docca['entity_relevance'] for docca in the_dic]\n",
    "the_inputs=[]\n",
    "#NEED SOME BETTER WAY TO HANDLE LONGER SEQUENCES THAN JUST TAKING FIRST 250 TOKENS!\n",
    "for docca in the_dic:\n",
    "    the_inputs.append(\" \".join(docca['sequence'].split()[:512]))\n",
    "    #the_inputs.append(\" \".join(docca['sequence'].split()[:250]))\n",
    "\n",
    "\n",
    "print(len(the_targets))\n",
    "print(len(the_inputs))\n",
    "the_data = pd.DataFrame(list(zip(the_targets, the_inputs)), columns =['targets', 'texts']) \n",
    "print(the_data.head())\n",
    "msk = np.random.rand(len(the_data)) < 0.9\n",
    "train_data = the_data[msk]\n",
    "test_data = the_data[~msk]\n",
    "print(np.shape(test_data))\n",
    "train_data.to_csv('/home/ec2-user/SageMaker/Data/entrel_data/train.tsv',sep='\\t',index=False,header=False)\n",
    "test_data.to_csv('/home/ec2-user/SageMaker/Data/entrel_data/dev.tsv',sep='\\t',index=False,header=False)"
   ]
  },
  {
   "cell_type": "code",
   "execution_count": null,
   "metadata": {},
   "outputs": [],
   "source": [
    "\n",
    "\n",
    "import torch\n",
    "from transformers import *\n",
    "import run_glue_gap\n",
    "import json\n",
    "import pandas as pd\n",
    "import numpy as np\n",
    "import pickle\n",
    "\n",
    "filename='/home/ec2-user/SageMaker/Data/contexts_samples_original4.json'\n",
    "\n",
    "#dict_keys(['query_name', 'contexts', 'article_title', 'conservative-marked-body', \n",
    "    #'conservative-sequence', 'liberal-marked-body', 'entity_relevance', 'article_body', 'liberal-sequence'])\n",
    "with open(filename, 'r') as f:\n",
    "            the_dic = json.loads(f.read())\n",
    "\n",
    "libandcon_cases=[]\n",
    "libnotcon_cases=[]\n",
    "atleastone_cases=[]\n",
    "fail_cases=[]\n",
    "#the_targets=[]\n",
    "the_targets=[docca['entity_relevance'] for docca in the_dic]\n",
    "conservative_inputs=[]\n",
    "liberal_inputs=[]\n",
    "for doc_ind, docca in enumerate(the_dic):\n",
    "    con_body=docca['conservative-marked-body']\n",
    "    con_seq=docca['conservative-sequence']\n",
    "    lib_body=docca['liberal-marked-body']\n",
    "    lib_seq=docca['liberal-sequence']\n",
    "    if len(lib_seq)>0 and len(lib_body)>0: #at least lib_seq and lib_body not empty\n",
    "        if len(lib_body.split())<len(lib_seq.split()):\n",
    "            liberal_inputs.append(lib_body)\n",
    "        else:\n",
    "            liberal_inputs.append(lib_seq)\n",
    "        if len(con_seq)>0 and len(con_body)>0: #con_seq and con_body also not empty\n",
    "            libandcon_cases.append(doc_ind)\n",
    "            if len(con_body.split())<len(con_seq.split()):\n",
    "                conservative_inputs.append(con_body)\n",
    "            else:\n",
    "                conservative_inputs.append(con_seq)\n",
    "        else: #lib not empty but con empty\n",
    "            libnotcon_cases.append(doc_ind)\n",
    "            conservative_inputs.append(liberal_inputs[-1])        \n",
    "        #the_targets.append(docca['entity_relevance'])\n",
    "    elif len(lib_seq)>0 or len(lib_body)>0 or len(con_seq)>0 or len(con_body)>0:\n",
    "        atleastone_cases.append(doc_ind)\n",
    "        if len(lib_body)>0:\n",
    "            conservative_inputs.append(lib_body)\n",
    "            liberal_inputs.append(lib_body)\n",
    "        if len(lib_seq)>0:\n",
    "            conservative_inputs.append(lib_seq)\n",
    "            liberal_inputs.append(lib_seq)\n",
    "        if len(con_body)>0:\n",
    "            conservative_inputs.append(con_body)\n",
    "            liberal_inputs.append(con_body)\n",
    "        if len(con_seq)>0:\n",
    "            conservative_inputs.append(con_seq)\n",
    "            liberal_inputs.append(con_seq)\n",
    "        #the_targets.append(docca['entity_relevance'])\n",
    "    else:\n",
    "        #the_targets.append('0')\n",
    "        conservative_inputs.append('x')\n",
    "        liberal_inputs.append('x')\n",
    "        fail_cases.append(doc_ind)\n",
    "\n",
    "print(len(libandcon_cases))\n",
    "print(len(libnotcon_cases))\n",
    "print(len(atleastone_cases))\n",
    "print(fail_cases)\n",
    "print(len(the_targets))\n",
    "print(len(conservative_inputs))\n",
    "print(len(liberal_inputs))\n",
    "con_data = pd.DataFrame(list(zip(the_targets, conservative_inputs)), columns =['targets', 'texts']) \n",
    "lib_data = pd.DataFrame(list(zip(the_targets, liberal_inputs)), columns =['targets', 'texts']) \n",
    "con_data = con_data.sample(frac=1).reset_index(drop=True)#shuffle\n",
    "lib_data = lib_data.sample(frac=1).reset_index(drop=True)#shuffle\n",
    "print(con_data.head())\n",
    "print(lib_data.head())\n",
    "#con_data\n",
    "msk = np.random.rand(len(con_data)) < 0.9\n",
    "con_train_data = con_data[msk].reset_index(drop=True)\n",
    "con_test_data = con_data[~msk].reset_index(drop=True)\n",
    "print(con_test_data.head())\n",
    "print(np.shape(con_test_data))\n",
    "con_train_data.to_csv('/home/ec2-user/SageMaker/Data/entrel_data_con/train.tsv',sep='\\t',index=False,header=False)\n",
    "con_test_data.to_csv('/home/ec2-user/SageMaker/Data/entrel_data_con/dev.tsv',sep='\\t',index=False,header=False)\n",
    "#lib_data\n",
    "msk = np.random.rand(len(lib_data)) < 0.9\n",
    "lib_train_data = lib_data[msk].reset_index(drop=True)\n",
    "lib_test_data = lib_data[~msk].reset_index(drop=True)\n",
    "print(lib_test_data.head())\n",
    "print(np.shape(lib_test_data))\n",
    "lib_train_data.to_csv('/home/ec2-user/SageMaker/Data/entrel_data_lib/train.tsv',sep='\\t',index=False,header=False)\n",
    "lib_test_data.to_csv('/home/ec2-user/SageMaker/Data/entrel_data_lib/dev.tsv',sep='\\t',index=False,header=False)"
   ]
  },
  {
   "cell_type": "code",
   "execution_count": 9,
   "metadata": {},
   "outputs": [
    {
     "data": {
      "text/plain": [
       "'Glancy Prongay & Murray LLP Announces Investigation on Behalf of <BEGIN-SPAN> ternium <END-SPAN> S.A. Investors ( TX ). LOS ANGELES ( BUSINESS WIRE ) Glancy Prongay & Murray LLP ( “ GPM ” ) announces an investigation on behalf of <BEGIN-SPAN> ternium <END-SPAN> S.A. ( “ Tenaris ” or the “ Company ” ) ( NYSE. ternium TX ) investors concerning the Company and its officers’ possible violations of federal securities laws. ternium If you are a shareholder who suffered a loss, click here to participate. TX ) investors concerning the Company and its officers’ possible violations of federal securities laws ternium. If you are a shareholder who suffered a loss, click here to participate ternium. On November 27 , 2018 , Bloomberg published an article alleging that <BEGIN-SPAN> ternium <END-SPAN> ’ s Chairman Paolo Rocca , was indicted for his role in a graft scheme. ternium Specifically the article alleges that, “the judge charged Rocca after the Argentine billionaire testified that one of his company’s executives paid an undisclosed amount of cash to government officials in monthly installments from 2009 to 2012.” On this news, Ternium’s share price fell $1.42 per share or nearly 5% to close at $28.02 per share on November 27, 2018, thereby injuring investors. ternium Follow us for updates on Twitter. If you are a shareholder who suffered a loss, click here to participate ternium. On November 27, 2018, Bloomberg published an article alleging that Ternium’s Chairman Paolo Rocca, was indicted for his role in a graft scheme ternium. Specifically the article alleges that , “ the judge charged Rocca after the Argentine billionaire testified that one of his company ’ s executives paid an undisclosed amount of cash to government officials in monthly installments from 2009 to 2012. ” On this news , <BEGIN-SPAN> ternium <END-SPAN> ’ s share price fell $ 1.42 per share or nearly 5 % to close at $ 28.02 per share on November 27 , 2018 , thereby injuring investors. ternium Follow us for updates on Twitter. ternium twitter.com/GPM LLP . If you purchased Ternium, have information or would like to learn more about these claims, or have any questions concerning this announcement or your rights or interests with respect to these matters, please contact Lesley Portnoy, Esquire, of GPM, 1925 Century Park East, Suite 2100, Los Angeles, California 90067 at 310 201 9150, Toll Free at 888 773 9224, by email to shareholders@glancylaw.com , or visit our website at www.glancylaw.com . If you inquire by email please include your mailing address, telephone number and number of shares purchased. Specifically the article alleges that, “the judge charged Rocca after the Argentine billionaire testified that one of his company’s executives paid an undisclosed amount of cash to government officials in monthly installments from 2009 to 2012.” On this news, Ternium’s share price fell $1.42 per share or nearly 5% to close at $28.02 per share on November 27, 2018, thereby injuring investors ternium. Follow us for updates on Twitter ternium. twitter.com/GPM LLP . If you purchased <BEGIN-SPAN> ternium <END-SPAN> , have information'"
      ]
     },
     "execution_count": 9,
     "metadata": {},
     "output_type": "execute_result"
    }
   ],
   "source": [
    "the_data.iloc[0]['texts']"
   ]
  },
  {
   "cell_type": "code",
   "execution_count": 11,
   "metadata": {},
   "outputs": [
    {
     "data": {
      "text/plain": [
       "dict_keys(['article_body', 'contexts', 'sequence', 'article_title', 'query_name', 'entity_relevance'])"
      ]
     },
     "execution_count": 11,
     "metadata": {},
     "output_type": "execute_result"
    }
   ],
   "source": [
    "the_dic[0].keys()"
   ]
  },
  {
   "cell_type": "code",
   "execution_count": 13,
   "metadata": {},
   "outputs": [
    {
     "data": {
      "text/plain": [
       "'Glancy Prongay & Murray LLP Announces Investigation on Behalf of <BEGIN-SPAN> ternium <END-SPAN> S.A. Investors ( TX ). LOS ANGELES ( BUSINESS WIRE ) Glancy Prongay & Murray LLP ( “ GPM ” ) announces an investigation on behalf of <BEGIN-SPAN> ternium <END-SPAN> S.A. ( “ Tenaris ” or the “ Company ” ) ( NYSE. ternium  TX ) investors concerning the Company and its officers’ possible violations of federal securities laws. ternium   If you are a shareholder who suffered a loss, click here to participate. TX ) investors concerning the Company and its officers’ possible violations of federal securities laws   ternium. If you are a shareholder who suffered a loss, click here to participate  ternium. On November 27 , 2018 , Bloomberg published an article alleging that <BEGIN-SPAN> ternium <END-SPAN> ’ s Chairman Paolo Rocca , was indicted for his role in a graft scheme. ternium  Specifically the article alleges that, “the judge charged Rocca after the Argentine billionaire testified that one of his company’s executives paid an undisclosed amount of cash to government officials in monthly installments from 2009 to 2012.” On this news, Ternium’s share price fell $1.42 per share or nearly 5% to close at $28.02 per share on November 27, 2018, thereby injuring investors. ternium   Follow us for updates on Twitter. If you are a shareholder who suffered a loss, click here to participate   ternium. On November 27, 2018, Bloomberg published an article alleging that Ternium’s Chairman Paolo Rocca, was indicted for his role in a graft scheme  ternium. Specifically the article alleges that , “ the judge charged Rocca after the Argentine billionaire testified that one of his company ’ s executives paid an undisclosed amount of cash to government officials in monthly installments from 2009 to 2012. ” On this news , <BEGIN-SPAN> ternium <END-SPAN> ’ s share price fell $ 1.42 per share or nearly 5 % to close at $ 28.02 per share on November 27 , 2018 , thereby injuring investors. ternium  Follow us for updates on Twitter. ternium   twitter.com/GPM LLP . If you purchased Ternium, have information or would like to learn more about these claims, or have any questions concerning this announcement or your rights or interests with respect to these matters, please contact Lesley Portnoy, Esquire, of GPM, 1925 Century Park East, Suite 2100, Los Angeles, California 90067 at 310 201 9150, Toll Free at 888 773 9224, by email to shareholders@glancylaw.com , or visit our website at www.glancylaw.com . If you inquire by email please include your mailing address, telephone number and number of shares purchased. Specifically the article alleges that, “the judge charged Rocca after the Argentine billionaire testified that one of his company’s executives paid an undisclosed amount of cash to government officials in monthly installments from 2009 to 2012.” On this news, Ternium’s share price fell $1.42 per share or nearly 5% to close at $28.02 per share on November 27, 2018, thereby injuring investors   ternium. Follow us for updates on Twitter  ternium. twitter.com/GPM LLP . If you purchased <BEGIN-SPAN> ternium <END-SPAN> , have information or would like to learn more about these claims , or have any questions concerning this announcement or your rights or interests with respect to these matters , please contact Lesley Portnoy , Esquire , of GPM , 1925 Century Park East , Suite 2100 , Los Angeles , California 90067 at 310 201 9150 , Toll Free at 888 773 9224 , by email to shareholders @ glancylaw.com , or visit our website at www.glancylaw.com . If you inquire by email please include your mailing address , telephone number and number of shares purchased. ternium  This press release may be considered Attorney Advertising in some jurisdictions under the applicable law and ethical rules. ternium   View source version on businesswire.com'"
      ]
     },
     "execution_count": 13,
     "metadata": {},
     "output_type": "execute_result"
    }
   ],
   "source": [
    "the_dic[0]['sequence']"
   ]
  },
  {
   "cell_type": "code",
   "execution_count": 14,
   "metadata": {},
   "outputs": [
    {
     "data": {
      "text/plain": [
       "'LOS ANGELES--(BUSINESS WIRE)--       Glancy      Prongay & Murray LLP  (“GPM”) announces an investigation on      behalf of Ternium S.A.   (“Tenaris” or the “Company”) (NYSE:  TX )      investors concerning the Company and its officers’ possible violations      of federal securities laws.    \\n          If you are a shareholder who suffered a loss, click\\xa0 here \\xa0to      participate.    \\n          On\\xa0November 27, 2018,\\xa0Bloomberg\\xa0published an article alleging that      Ternium’s Chairman Paolo Rocca, was indicted for his role in a graft      scheme. Specifically the article alleges that, “the judge charged Rocca      after the Argentine billionaire testified that one of his company’s      executives paid an undisclosed amount of cash to government officials in      monthly installments from 2009 to 2012.” On this news, Ternium’s share      price fell $1.42 per share or nearly 5% to close at $28.02 per share on      November 27, 2018, thereby injuring investors.    \\n          Follow us for updates on Twitter:  twitter.com/GPM_LLP .    \\n          If you purchased Ternium, have information or would like to learn more      about these claims, or have any questions concerning this announcement      or your rights or interests with respect to these matters, please      contact Lesley Portnoy, Esquire, of GPM, 1925 Century Park East, Suite      2100, Los Angeles, California 90067 at 310-201-9150, Toll-Free at      888-773-9224, by email to  shareholders@glancylaw.com ,      or visit our website at  www.glancylaw.com .      If you inquire by email please include your mailing address, telephone      number and number of shares purchased.    \\n          This press release may be considered Attorney Advertising in some      jurisdictions under the applicable law and ethical rules.    \\n  \\nView source version on  businesswire.com :  https://www.businesswire.com/news/home/20181129005879/en/ \\n          Glancy Prongay & Murray LLP, Los Angeles/New YorkLesley      Portnoy, 310-201-9150 or 888-773-9224 shareholders@glancylaw.com  www.glancylaw.com     \\nSource: Glancy Prongay & Murray LLP'"
      ]
     },
     "execution_count": 14,
     "metadata": {},
     "output_type": "execute_result"
    }
   ],
   "source": [
    "the_dic[0]['article_body']"
   ]
  },
  {
   "cell_type": "code",
   "execution_count": null,
   "metadata": {},
   "outputs": [],
   "source": []
  },
  {
   "cell_type": "code",
   "execution_count": null,
   "metadata": {},
   "outputs": [],
   "source": [
    "\n",
    "import torch\n",
    "from transformers import *\n",
    "import run_glue_gap\n",
    "import json\n",
    "import pandas as pd\n",
    "import numpy as np\n",
    "import pickle\n",
    "\n",
    "parser = run_glue_gap.argparse.ArgumentParser()\n",
    "args = run_glue_gap.get_args(parser)\n",
    "\n",
    "datasetta=1 # 0: Gap, 1: entrel\n",
    "model_typea=1 # 0: BERT, 1: XLNET, 2: Roberta, 3: Distilbert, 4: XLM, 5:TransformerXL\n",
    "small_or_big=1 # 0: small, 1: big\n",
    "batch_size=8\n",
    "\n",
    "args.num_train_epochs=5.0\n",
    "args.do_train=True\n",
    "args.do_eval=True\n",
    "\n",
    "#args.max_steps=3\n",
    "args.overwrite_output_dir=True\n",
    "args.overwrite_cache = True\n",
    "args.evaluate_during_training=False\n",
    "args.logging_steps =50\n",
    "args.save_steps=1000\n",
    "args.max_seq_length = 512\n",
    "\n",
    "args.learning_rate =1e-5\n",
    "args.adam_epsilon=1e-8\n",
    "args.warmup_steps= 50  \n",
    "args.weight_decay= 0.0\n",
    "\n",
    "if small_or_big==0:\n",
    "    args.per_gpu_eval_batch_size=8\n",
    "    args.per_gpu_train_batch_size=8\n",
    "    if batch_size==8:\n",
    "        args.gradient_accumulation_steps=1\n",
    "    elif batch_size==16:\n",
    "        args.gradient_accumulation_steps=2\n",
    "    elif batch_size==32:\n",
    "        args.gradient_accumulation_steps=4\n",
    "elif small_or_big==1:\n",
    "    args.per_gpu_eval_batch_size=1\n",
    "    args.per_gpu_train_batch_size=1\n",
    "    if batch_size==8:\n",
    "        args.gradient_accumulation_steps=8\n",
    "    elif batch_size==16:\n",
    "        args.gradient_accumulation_steps=16\n",
    "    elif batch_size==32:\n",
    "        args.gradient_accumulation_steps=32\n",
    "\n",
    "\n",
    "\n",
    "if model_typea==0:\n",
    "    args.model_type='bert'\n",
    "    args.do_lower_case=True\n",
    "    if small_or_big==0:\n",
    "        args.model_name_or_path='bert-base-uncased'\n",
    "    else:\n",
    "        args.model_name_or_path='bert-large-uncased'\n",
    "elif model_typea==1:\n",
    "    args.model_type='xlnet'\n",
    "    args.do_lower_case=False\n",
    "    #args.model_name_or_path='xlnet-base-cased'\n",
    "    if small_or_big==0:\n",
    "        args.model_name_or_path='xlnet-base-cased'\n",
    "    else:\n",
    "        args.model_name_or_path='xlnet-large-cased'\n",
    "elif model_typea==2:\n",
    "    args.model_type='roberta'\n",
    "    args.do_lower_case=False\n",
    "    #args.model_name_or_path='roberta-base'\n",
    "    if small_or_big==0:\n",
    "        args.model_name_or_path='roberta-base'\n",
    "    else:\n",
    "        args.model_name_or_path='roberta-large'\n",
    "elif model_typea==3:\n",
    "    args.model_type='distilbert'\n",
    "    args.model_name_or_path='distilbert-base-uncased'\n",
    "    args.do_lower_case=True\n",
    "elif model_typea==4:\n",
    "    args.model_type='xlm'\n",
    "    args.model_name_or_path='xlm-mlm-en-2048'\n",
    "    args.do_lower_case=False\n",
    "\n",
    "if datasetta==0:\n",
    "    args.data_dir='/home/ec2-user/SageMaker/Data/gap_data/'\n",
    "    args.output_dir='/tmp/gap/'\n",
    "    args.task_name='gap'\n",
    "elif datasetta==1:\n",
    "    args.data_dir='/home/ec2-user/SageMaker/Data/entrel_data'\n",
    "    args.output_dir='/tmp/entrel/'\n",
    "    args.task_name='entityrel'\n",
    "    \n",
    "\n",
    "#args.per_gpu_eval_batch_size=2\n",
    "#args.per_gpu_train_batch_size=2\n",
    "#args.gradient_accumulation_steps=16\n",
    "\n",
    "results=run_glue_gap.run_main(parser,args)\n"
   ]
  },
  {
   "cell_type": "code",
   "execution_count": null,
   "metadata": {},
   "outputs": [],
   "source": [
    "\n",
    "\n",
    "import torch\n",
    "from transformers import *\n",
    "import run_glue_gap\n",
    "import json\n",
    "import pandas as pd\n",
    "import numpy as np\n",
    "import pickle\n",
    "\n",
    "\n",
    "args_list=[]\n",
    "results_list=[]\n",
    "\n",
    "num_trials=1000\n",
    "\n",
    "for trial_num in range(num_trials):\n",
    "    \n",
    "    parser = run_glue_gap.argparse.ArgumentParser()\n",
    "    args = run_glue_gap.get_args(parser)\n",
    "    \n",
    "    #model_typea=0 # 0: BERT, 1: XLNET, 2: Roberta, 3: Distilbert\n",
    "    model_typea=run_glue_gap.gen_grid_val([0,1,2],'sel')\n",
    "    small_or_big=run_glue_gap.gen_grid_val([0,1],'sel') # 0: small, 1: big\n",
    "    args.con_or_lib=run_glue_gap.gen_grid_val([0,1],'sel') # 0: con, 1: lib\n",
    "    batch_size=run_glue_gap.gen_grid_val([8,16,32],'sel')\n",
    "    \n",
    "    args.num_train_epochs=run_glue_gap.gen_grid_val([5,8,11],'sel')\n",
    "    #args.num_train_epochs=run_glue_gap.gen_grid_val([1,2],'sel')\n",
    "    args.do_train=True\n",
    "    args.do_eval=True\n",
    "    \n",
    "    #args.max_steps=3\n",
    "    args.overwrite_output_dir=True\n",
    "    args.overwrite_cache = True\n",
    "    args.evaluate_during_training=False\n",
    "    args.logging_steps =50\n",
    "    args.save_steps=1000\n",
    "    args.max_seq_length = 512\n",
    "    \n",
    "    args.learning_rate =run_glue_gap.gen_grid_val([1e-6,5e-5],'exp')\n",
    "    args.adam_epsilon= 1e-8\n",
    "    args.warmup_steps= run_glue_gap.gen_grid_val([0,100],'lin_round')\n",
    "    args.weight_decay= 0.0\n",
    "    \n",
    "    if small_or_big==0:\n",
    "        args.per_gpu_eval_batch_size=8\n",
    "        args.per_gpu_train_batch_size=8\n",
    "        if batch_size==8:\n",
    "            args.gradient_accumulation_steps=1\n",
    "        elif batch_size==16:\n",
    "            args.gradient_accumulation_steps=2\n",
    "        elif batch_size==32:\n",
    "            args.gradient_accumulation_steps=4\n",
    "    elif small_or_big==1:\n",
    "        args.per_gpu_eval_batch_size=1\n",
    "        args.per_gpu_train_batch_size=1\n",
    "        if batch_size==8:\n",
    "            args.gradient_accumulation_steps=8\n",
    "        elif batch_size==16:\n",
    "            args.gradient_accumulation_steps=16\n",
    "        elif batch_size==32:\n",
    "            args.gradient_accumulation_steps=32\n",
    "    \n",
    "    if model_typea==0:\n",
    "        args.model_type='bert'\n",
    "        args.do_lower_case=True\n",
    "        if small_or_big==0:\n",
    "            args.model_name_or_path='bert-base-uncased'\n",
    "        else:\n",
    "            args.model_name_or_path='bert-large-uncased'\n",
    "    elif model_typea==1:\n",
    "        args.model_type='xlnet'\n",
    "        args.do_lower_case=False\n",
    "        #args.model_name_or_path='xlnet-base-cased'\n",
    "        if small_or_big==0:\n",
    "            args.model_name_or_path='xlnet-base-cased'\n",
    "        else:\n",
    "            args.model_name_or_path='xlnet-large-cased'\n",
    "    elif model_typea==2:\n",
    "        args.model_type='roberta'\n",
    "        args.do_lower_case=False\n",
    "        #args.model_name_or_path='roberta-base'\n",
    "        if small_or_big==0:\n",
    "            args.model_name_or_path='roberta-base'\n",
    "        else:\n",
    "            args.model_name_or_path='roberta-large'\n",
    "    elif model_typea==3:\n",
    "        args.model_type='distilbert'\n",
    "        args.model_name_or_path='distilbert-base-uncased'\n",
    "        args.do_lower_case=True\n",
    "    elif model_typea==4:\n",
    "        args.model_type='xlm'\n",
    "        args.model_name_or_path='xlm-mlm-en-2048'\n",
    "        args.do_lower_case=False\n",
    "    \n",
    "    if args.con_or_lib==0:\n",
    "        args.data_dir='/home/ec2-user/SageMaker/Data/entrel_data_con'\n",
    "    else:\n",
    "        args.data_dir='/home/ec2-user/SageMaker/Data/entrel_data_lib'\n",
    "    args.output_dir='/tmp/entrel/'\n",
    "    args.task_name='entityrel'\n",
    "    \n",
    "    results=run_glue_gap.run_main(parser,args)\n",
    "    \n",
    "    args_list.append(args)\n",
    "    results_list.append(results)\n",
    "    \n",
    "    outputta=(results_list,args_list)\n",
    "    pickle.dump(outputta, open(\"outputta.pickle\",\"wb\"))\n",
    "\n"
   ]
  }
 ],
 "metadata": {
  "kernelspec": {
   "display_name": "conda_python3",
   "language": "python",
   "name": "conda_python3"
  },
  "language_info": {
   "codemirror_mode": {
    "name": "ipython",
    "version": 3
   },
   "file_extension": ".py",
   "mimetype": "text/x-python",
   "name": "python",
   "nbconvert_exporter": "python",
   "pygments_lexer": "ipython3",
   "version": "3.6.5"
  }
 },
 "nbformat": 4,
 "nbformat_minor": 2
}
